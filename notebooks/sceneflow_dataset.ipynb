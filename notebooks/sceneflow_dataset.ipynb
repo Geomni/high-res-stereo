{
 "cells": [
  {
   "cell_type": "code",
   "execution_count": null,
   "metadata": {},
   "outputs": [],
   "source": [
    "import sys\n",
    "import os\n",
    "\n",
    "sys.path.append('../')\n",
    "from dataloader.MiddleburyLoader import myImageFloder\n",
    "from notebooks.notebook_utils import visualize_sample, download_file_s3, list_s3"
   ]
  },
  {
   "cell_type": "code",
   "execution_count": null,
   "metadata": {},
   "outputs": [],
   "source": [
    "def get_all_keys(disp_folder, img_folder, base_name):\n",
    "    li = img_folder + '/left/{}.png'.format(base_name)\n",
    "    ri = img_folder + '/right/{}.png'.format(base_name)\n",
    "    ld = disp_folder + '/left/{}.pfm'.format(base_name)\n",
    "    rd = disp_folder + '/right/{}.pfm'.format(base_name)\n",
    "    return li, ri, ld, rd\n",
    "\n",
    "def get_out_file(s3_key):\n",
    "    s3_key_split = s3_key.split('/')\n",
    "    out_folder = '../data/{}'.format('/'.join(s3_key_split[1:-1]))\n",
    "    os.makedirs(out_folder, exist_ok=True)\n",
    "    out_file = os.path.join(out_folder, '{}'.format(s3_key_split[-1]))\n",
    "    return out_file\n",
    "    \n",
    "def walk_through_dataset(dataset_list):\n",
    "    for example in dataset_list:\n",
    "        left_key = example['Key']\n",
    "        if 'left' not in left_key:\n",
    "            continue\n",
    "        base_name = os.path.basename(left_key)[:-4]\n",
    "        disp_folder = '/'.join(left_key.split('/')[0:-2])\n",
    "        img_folder = disp_folder.replace('disparity', 'frames_cleanpass')\n",
    "        li, ri, ld, rd = get_all_keys(disp_folder, img_folder, base_name)\n",
    "        print(li)\n",
    "        print(ri)\n",
    "        print(ld)\n",
    "        print(rd)\n",
    "        \n",
    "        all_left = [get_out_file(li)]\n",
    "        all_right = [get_out_file(ri)]\n",
    "        all_left_disp = [get_out_file(ld)]\n",
    "        all_right_disp = [get_out_file(rd)]\n",
    "        \n",
    "        download_file_s3(li, all_left[0])\n",
    "        download_file_s3(ri, all_right[0])\n",
    "        download_file_s3(ld, all_left_disp[0])\n",
    "        download_file_s3(rd, all_right_disp[0])\n",
    "        \n",
    "        rand_scale = [0.9, 2.4]\n",
    "        loader_scene = myImageFloder(all_left, all_right, all_left_disp,\n",
    "                                     right_disparity=all_right_disp, \n",
    "                                     rand_scale=rand_scale, order=2)\n",
    "        \n",
    "        for (img_l, img_r, disp_l) in loader_scene:\n",
    "            visualize_sample(img_l, img_r, disp_l)\n",
    "            yield"
   ]
  },
  {
   "cell_type": "markdown",
   "metadata": {},
   "source": [
    "# Monkaa"
   ]
  },
  {
   "cell_type": "code",
   "execution_count": null,
   "metadata": {},
   "outputs": [],
   "source": [
    "train_list = list_s3('hdsm/sceneflow/monkaa/disparity/', delim='')['Contents']"
   ]
  },
  {
   "cell_type": "code",
   "execution_count": null,
   "metadata": {},
   "outputs": [],
   "source": [
    "train_iter = walk_through_dataset(train_list)"
   ]
  },
  {
   "cell_type": "code",
   "execution_count": null,
   "metadata": {},
   "outputs": [],
   "source": [
    "next(train_iter)"
   ]
  },
  {
   "cell_type": "markdown",
   "metadata": {},
   "source": [
    "# Driving"
   ]
  },
  {
   "cell_type": "code",
   "execution_count": null,
   "metadata": {},
   "outputs": [],
   "source": [
    "train_list = list_s3('hdsm/sceneflow/driving/disparity/', delim='')['Contents']"
   ]
  },
  {
   "cell_type": "code",
   "execution_count": null,
   "metadata": {},
   "outputs": [],
   "source": [
    "train_iter = walk_through_dataset(train_list)"
   ]
  },
  {
   "cell_type": "code",
   "execution_count": null,
   "metadata": {},
   "outputs": [],
   "source": [
    "next(train_iter)"
   ]
  },
  {
   "cell_type": "code",
   "execution_count": null,
   "metadata": {},
   "outputs": [],
   "source": []
  }
 ],
 "metadata": {
  "kernelspec": {
   "display_name": "Python 3",
   "language": "python",
   "name": "python3"
  },
  "language_info": {
   "codemirror_mode": {
    "name": "ipython",
    "version": 3
   },
   "file_extension": ".py",
   "mimetype": "text/x-python",
   "name": "python",
   "nbconvert_exporter": "python",
   "pygments_lexer": "ipython3",
   "version": "3.7.7"
  }
 },
 "nbformat": 4,
 "nbformat_minor": 4
}
