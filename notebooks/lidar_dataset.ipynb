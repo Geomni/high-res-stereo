{
 "cells": [
  {
   "cell_type": "code",
   "execution_count": null,
   "metadata": {},
   "outputs": [],
   "source": [
    "import sys\n",
    "import os\n",
    "\n",
    "sys.path.append('../')\n",
    "from dataloader.MiddleburyLoader import myImageFloder\n",
    "from notebooks.notebook_utils import visualize_sample, download_sample, get_lidar_train_list"
   ]
  },
  {
   "cell_type": "code",
   "execution_count": null,
   "metadata": {},
   "outputs": [],
   "source": [
    "train_list = get_lidar_train_list()"
   ]
  },
  {
   "cell_type": "code",
   "execution_count": null,
   "metadata": {},
   "outputs": [],
   "source": [
    "def walk_through_dataset(dataset_list):\n",
    "    for example in dataset_list:\n",
    "        print(example)\n",
    "        folders = example.split('/')[-3:]\n",
    "        folder = '/'.join(folders)\n",
    "        out_folder = '../data/lidar/{}'.format(folder)\n",
    "        download_sample(example, out_folder)\n",
    "        all_left_img = [os.path.join(out_folder, 'im0.png')]\n",
    "        all_right_img = [os.path.join(out_folder, 'im1.png')]\n",
    "        all_left_disp = [os.path.join(out_folder, 'disp0GT.pfm')]\n",
    "        all_right_disp = [os.path.join(out_folder, 'disp1GT.pfm')]\n",
    "        rand_scale = [0.5, 1.2]\n",
    "        loader_lidar = myImageFloder(all_left_img, all_right_img,\n",
    "                                     all_left_disp, right_disparity=all_right_disp,\n",
    "                                     rand_scale=rand_scale, order=0)\n",
    "        visualize_sample(loader_lidar)\n",
    "        yield"
   ]
  },
  {
   "cell_type": "code",
   "execution_count": null,
   "metadata": {},
   "outputs": [],
   "source": [
    "train_iter = walk_through_dataset(train_list)"
   ]
  },
  {
   "cell_type": "code",
   "execution_count": null,
   "metadata": {},
   "outputs": [],
   "source": [
    "next(train_iter)"
   ]
  }
 ],
 "metadata": {
  "kernelspec": {
   "display_name": "Python 3",
   "language": "python",
   "name": "python3"
  },
  "language_info": {
   "codemirror_mode": {
    "name": "ipython",
    "version": 3
   },
   "file_extension": ".py",
   "mimetype": "text/x-python",
   "name": "python",
   "nbconvert_exporter": "python",
   "pygments_lexer": "ipython3",
   "version": "3.7.7"
  }
 },
 "nbformat": 4,
 "nbformat_minor": 4
}