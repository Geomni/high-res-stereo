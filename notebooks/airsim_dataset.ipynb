{
 "cells": [
  {
   "cell_type": "code",
   "execution_count": 1,
   "metadata": {},
   "outputs": [],
   "source": [
    "import sys\n",
    "import os\n",
    "\n",
    "sys.path.append('../')\n",
    "from dataloader.MiddleburyLoader import myImageFloder\n",
    "from notebooks.notebook_utils import visualize_sample, download_sample, list_s3"
   ]
  },
  {
   "cell_type": "code",
   "execution_count": 2,
   "metadata": {},
   "outputs": [],
   "source": [
    "train_list = list_s3('airsim_dataset/')"
   ]
  },
  {
   "cell_type": "code",
   "execution_count": 3,
   "metadata": {},
   "outputs": [
    {
     "name": "stdout",
     "output_type": "stream",
     "text": [
      "{'ResponseMetadata': {'RequestId': '3A3FC4DBD7DB8777', 'HostId': '7L6mulDshwzwmjprduzBR/7I8VOuo+j7hRXQu4f+sQEdQYWvo9s95/CdZu/3Hm8LfJQ9Rbpig+s=', 'HTTPStatusCode': 200, 'HTTPHeaders': {'x-amz-id-2': '7L6mulDshwzwmjprduzBR/7I8VOuo+j7hRXQu4f+sQEdQYWvo9s95/CdZu/3Hm8LfJQ9Rbpig+s=', 'x-amz-request-id': '3A3FC4DBD7DB8777', 'date': 'Thu, 08 Oct 2020 17:36:44 GMT', 'x-amz-bucket-region': 'us-west-2', 'content-type': 'application/xml', 'transfer-encoding': 'chunked', 'server': 'AmazonS3'}, 'RetryAttempts': 0}, 'IsTruncated': False, 'Contents': [{'Key': 'airsim_dataset/', 'LastModified': datetime.datetime(2020, 10, 2, 11, 8, 32, tzinfo=tzutc()), 'ETag': '\"d41d8cd98f00b204e9800998ecf8427e\"', 'Size': 0, 'StorageClass': 'STANDARD'}, {'Key': 'airsim_dataset/README.txt', 'LastModified': datetime.datetime(2020, 10, 7, 7, 29, 39, tzinfo=tzutc()), 'ETag': '\"b27d8918bffdf7b5f3982815561958b4\"', 'Size': 798, 'StorageClass': 'STANDARD'}, {'Key': 'airsim_dataset/generation_parameters.json', 'LastModified': datetime.datetime(2020, 10, 2, 11, 17, 39, tzinfo=tzutc()), 'ETag': '\"40ad4df22dfb97a0d0f1aee0b2081094\"', 'Size': 274, 'StorageClass': 'STANDARD'}], 'Name': 'autogpe-datasets', 'Prefix': 'airsim_dataset/', 'Delimiter': '/', 'MaxKeys': 1000, 'CommonPrefixes': [{'Prefix': 'airsim_dataset/Medium_House_Prefab_01_23176/'}, {'Prefix': 'airsim_dataset/Medium_House_Prefab_40975/'}, {'Prefix': 'airsim_dataset/Medium_House_Prefab_49874/'}, {'Prefix': 'airsim_dataset/Medium_House_Prefab_63253/'}, {'Prefix': 'airsim_dataset/Medium_House_Prefab_80664/'}, {'Prefix': 'airsim_dataset/Medium_House_Prefab_95387/'}, {'Prefix': 'airsim_dataset/Small_House_01/'}, {'Prefix': 'airsim_dataset/Small_House_10/'}, {'Prefix': 'airsim_dataset/Small_House_11/'}, {'Prefix': 'airsim_dataset/Small_House_11630/'}, {'Prefix': 'airsim_dataset/Small_House_13/'}, {'Prefix': 'airsim_dataset/Small_House_15/'}, {'Prefix': 'airsim_dataset/Small_House_17128/'}, {'Prefix': 'airsim_dataset/Small_House_18/'}, {'Prefix': 'airsim_dataset/Small_House_19/'}, {'Prefix': 'airsim_dataset/Small_House_20/'}, {'Prefix': 'airsim_dataset/Small_House_22/'}, {'Prefix': 'airsim_dataset/Small_House_23/'}, {'Prefix': 'airsim_dataset/Small_House_24/'}, {'Prefix': 'airsim_dataset/Small_House_25/'}, {'Prefix': 'airsim_dataset/Small_House_26/'}, {'Prefix': 'airsim_dataset/Small_House_27/'}, {'Prefix': 'airsim_dataset/Small_House_28/'}, {'Prefix': 'airsim_dataset/Small_House_29/'}, {'Prefix': 'airsim_dataset/Small_House_3/'}, {'Prefix': 'airsim_dataset/Small_House_30/'}, {'Prefix': 'airsim_dataset/Small_House_31/'}, {'Prefix': 'airsim_dataset/Small_House_32/'}, {'Prefix': 'airsim_dataset/Small_House_33/'}, {'Prefix': 'airsim_dataset/Small_House_34/'}, {'Prefix': 'airsim_dataset/Small_House_36/'}, {'Prefix': 'airsim_dataset/Small_House_37/'}, {'Prefix': 'airsim_dataset/Small_House_38/'}, {'Prefix': 'airsim_dataset/Small_House_39/'}, {'Prefix': 'airsim_dataset/Small_House_40/'}, {'Prefix': 'airsim_dataset/Small_House_41/'}, {'Prefix': 'airsim_dataset/Small_House_42/'}, {'Prefix': 'airsim_dataset/Small_House_43/'}, {'Prefix': 'airsim_dataset/Small_House_44/'}, {'Prefix': 'airsim_dataset/Small_House_45/'}, {'Prefix': 'airsim_dataset/Small_House_46/'}, {'Prefix': 'airsim_dataset/Small_House_4661/'}, {'Prefix': 'airsim_dataset/Small_House_47/'}, {'Prefix': 'airsim_dataset/Small_House_48/'}, {'Prefix': 'airsim_dataset/Small_House_7/'}, {'Prefix': 'airsim_dataset/Small_House_8/'}], 'EncodingType': 'url', 'KeyCount': 49}\n"
     ]
    }
   ],
   "source": []
  },
  {
   "cell_type": "code",
   "execution_count": null,
   "metadata": {},
   "outputs": [],
   "source": []
  }
 ],
 "metadata": {
  "kernelspec": {
   "display_name": "Python 3",
   "language": "python",
   "name": "python3"
  },
  "language_info": {
   "codemirror_mode": {
    "name": "ipython",
    "version": 3
   },
   "file_extension": ".py",
   "mimetype": "text/x-python",
   "name": "python",
   "nbconvert_exporter": "python",
   "pygments_lexer": "ipython3",
   "version": "3.7.7"
  }
 },
 "nbformat": 4,
 "nbformat_minor": 4
}
