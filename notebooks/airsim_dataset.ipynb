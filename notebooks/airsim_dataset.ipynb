{
 "cells": [
  {
   "cell_type": "code",
   "execution_count": null,
   "metadata": {},
   "outputs": [],
   "source": [
    "import sys\n",
    "import os\n",
    "\n",
    "sys.path.append('../')\n",
    "from dataloader.MiddleburyLoader import myImageFloder\n",
    "from notebooks.notebook_utils import visualize_sample, download_sample, list_s3"
   ]
  },
  {
   "cell_type": "code",
   "execution_count": null,
   "metadata": {},
   "outputs": [],
   "source": [
    "train_list = list_s3('airsim_dataset/')['CommonPrefixes']"
   ]
  },
  {
   "cell_type": "code",
   "execution_count": null,
   "metadata": {},
   "outputs": [],
   "source": [
    "def walk_through_dataset(dataset_list):\n",
    "    for example in dataset_list:\n",
    "        example = example['Prefix']\n",
    "        example = 's3://autogpe-datasets/{}'.format(example)\n",
    "        folders = example.split('/')[-2:]\n",
    "        folder = '/'.join(folders)\n",
    "        out_folder = '../data/airsim/{}'.format(folder)\n",
    "        print('sync: {}'.format(example))\n",
    "        download_sample(example, out_folder)\n",
    "        left_train = []\n",
    "        right_train = []\n",
    "        disp_train_l = []\n",
    "        _, orientations, _ = list(os.walk(out_folder))[0]\n",
    "        for orientation in orientations:\n",
    "            left_train.append(os.path.join(out_folder, *[orientation, 'left_bgr.png']))\n",
    "            right_train.append(os.path.join(out_folder, *[orientation, 'right_bgr.png']))\n",
    "            disp_train_l.append(os.path.join(out_folder, *[orientation, 'left_disparity.npy']))\n",
    "        rand_scale = [0.5, 1.2]\n",
    "        airsim_dataloader = myImageFloder(left_train, right_train, disp_train_l, rand_scale=rand_scale, order=0)   \n",
    "        for (img_l, img_r, disp_l) in airsim_dataloader:\n",
    "            visualize_sample(img_l, img_r, disp_l)\n",
    "            yield"
   ]
  },
  {
   "cell_type": "code",
   "execution_count": null,
   "metadata": {},
   "outputs": [],
   "source": [
    "train_iter = walk_through_dataset(train_list)"
   ]
  },
  {
   "cell_type": "code",
   "execution_count": null,
   "metadata": {},
   "outputs": [],
   "source": [
    "next(train_iter)"
   ]
  },
  {
   "cell_type": "code",
   "execution_count": null,
   "metadata": {},
   "outputs": [],
   "source": []
  }
 ],
 "metadata": {
  "kernelspec": {
   "display_name": "Python 3",
   "language": "python",
   "name": "python3"
  },
  "language_info": {
   "codemirror_mode": {
    "name": "ipython",
    "version": 3
   },
   "file_extension": ".py",
   "mimetype": "text/x-python",
   "name": "python",
   "nbconvert_exporter": "python",
   "pygments_lexer": "ipython3",
   "version": "3.7.7"
  }
 },
 "nbformat": 4,
 "nbformat_minor": 4
}
