{
 "cells": [
  {
   "cell_type": "code",
   "execution_count": null,
   "metadata": {},
   "outputs": [],
   "source": [
    "import sys\n",
    "import os\n",
    "\n",
    "sys.path.append('../')\n",
    "from dataloader.MiddleburyLoader import myImageFloder\n",
    "from notebooks.notebook_utils import visualize_sample, download_file_s3, list_s3"
   ]
  },
  {
   "cell_type": "code",
   "execution_count": null,
   "metadata": {},
   "outputs": [],
   "source": [
    "train_list = list_s3('hdsm/kitti12/training/disp_occ/', delim='')['Contents']"
   ]
  },
  {
   "cell_type": "code",
   "execution_count": null,
   "metadata": {},
   "outputs": [],
   "source": [
    "def get_all_keys(training_folder, base_name):\n",
    "    li = training_folder + '/colored_0/{}.png'.format(base_name)\n",
    "    ri = training_folder + '/colored_1/{}.png'.format(base_name)\n",
    "    ld = training_folder + '/disp_occ/{}.png'.format(base_name)\n",
    "    return li, ri, ld\n",
    "\n",
    "def get_out_file(s3_key):\n",
    "    s3_key_split = s3_key.split('/')\n",
    "    out_folder = '../data/{}'.format('/'.join(s3_key_split[1:-1]))\n",
    "    os.makedirs(out_folder, exist_ok=True)\n",
    "    out_file = os.path.join(out_folder, '{}'.format(s3_key_split[-1]))\n",
    "    return out_file\n",
    "\n",
    "def walk_through_dataset(dataset_list):\n",
    "    for example in dataset_list:\n",
    "        disp_key = example['Key']\n",
    "        if '_10.png' not in disp_key:\n",
    "            continue\n",
    "        base_name = os.path.basename(disp_key)[:-4]\n",
    "        training_folder = '/'.join(disp_key.split('/')[0:-2])\n",
    "        li, ri, ld = get_all_keys(training_folder, base_name)\n",
    "        \n",
    "        all_left = [get_out_file(li)]\n",
    "        all_right = [get_out_file(ri)]\n",
    "        all_left_disp = [get_out_file(ld)]\n",
    "        \n",
    "        download_file_s3(li, all_left[0])\n",
    "        download_file_s3(ri, all_right[0])\n",
    "        download_file_s3(ld, all_left_disp[0])\n",
    "        \n",
    "        rand_scale = [0.9, 2.4]\n",
    "        loader_kitti12 = myImageFloder(all_left, all_right, all_left_disp, rand_scale=rand_scale, order=0)\n",
    "        for (img_l, img_r, disp_l) in loader_kitti12:\n",
    "            visualize_sample(img_l, img_r, disp_l)\n",
    "            yield"
   ]
  },
  {
   "cell_type": "code",
   "execution_count": null,
   "metadata": {},
   "outputs": [],
   "source": [
    "train_iter = walk_through_dataset(train_list)"
   ]
  },
  {
   "cell_type": "code",
   "execution_count": null,
   "metadata": {},
   "outputs": [],
   "source": [
    "next(train_iter)"
   ]
  },
  {
   "cell_type": "code",
   "execution_count": null,
   "metadata": {},
   "outputs": [],
   "source": []
  }
 ],
 "metadata": {
  "kernelspec": {
   "display_name": "Python 3",
   "language": "python",
   "name": "python3"
  },
  "language_info": {
   "codemirror_mode": {
    "name": "ipython",
    "version": 3
   },
   "file_extension": ".py",
   "mimetype": "text/x-python",
   "name": "python",
   "nbconvert_exporter": "python",
   "pygments_lexer": "ipython3",
   "version": "3.7.7"
  }
 },
 "nbformat": 4,
 "nbformat_minor": 4
}
