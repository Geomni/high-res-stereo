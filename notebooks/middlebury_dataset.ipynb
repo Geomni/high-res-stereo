{
 "cells": [
  {
   "cell_type": "code",
   "execution_count": null,
   "metadata": {},
   "outputs": [],
   "source": [
    "import sys\n",
    "import os\n",
    "\n",
    "sys.path.append('../')\n",
    "from dataloader.MiddleburyLoader import myImageFloder\n",
    "from notebooks.notebook_utils import visualize_sample, download_sample, list_s3"
   ]
  },
  {
   "cell_type": "code",
   "execution_count": null,
   "metadata": {},
   "outputs": [],
   "source": [
    "train_list = list_s3('hdsm/middlebury/mb-ex-training/trainingF/')['CommonPrefixes']"
   ]
  },
  {
   "cell_type": "code",
   "execution_count": null,
   "metadata": {},
   "outputs": [],
   "source": [
    "def walk_through_dataset(dataset_list):\n",
    "    for example in dataset_list:\n",
    "        example = example['Prefix']\n",
    "        example = 's3://autogpe-datasets/{}'.format(example)\n",
    "        folders = example.split('/')[-2:]\n",
    "        folder = '/'.join(folders)\n",
    "        out_folder = '../data/middlebury/mb-ex-training/trainingF/{}'.format(folder)\n",
    "        download_sample(example, out_folder)\n",
    "        \n",
    "        all_left_img = [os.path.join(out_folder, 'im0.png')]\n",
    "        all_right_img = [os.path.join(out_folder, 'im1.png')]\n",
    "        all_left_disp = [os.path.join(out_folder, 'disp0GT.pfm')]\n",
    "        all_right_disp = [os.path.join(out_folder, 'disp1GT.pfm')]\n",
    "        scale_factor = 1.0\n",
    "        rand_scale = [0.9, 2.4 * scale_factor]\n",
    "        loader_eth3d = myImageFloder(all_left_img, all_right_img, all_left_disp, rand_scale=rand_scale, order=0)\n",
    "        for (img_l, img_r, disp_l) in loader_eth3d:\n",
    "            visualize_sample(img_l, img_r, disp_l)\n",
    "            yield"
   ]
  },
  {
   "cell_type": "code",
   "execution_count": null,
   "metadata": {},
   "outputs": [],
   "source": [
    "train_iter = walk_through_dataset(train_list)"
   ]
  },
  {
   "cell_type": "code",
   "execution_count": null,
   "metadata": {},
   "outputs": [],
   "source": [
    "next(train_iter)"
   ]
  },
  {
   "cell_type": "code",
   "execution_count": null,
   "metadata": {},
   "outputs": [],
   "source": []
  }
 ],
 "metadata": {
  "kernelspec": {
   "display_name": "Python 3",
   "language": "python",
   "name": "python3"
  },
  "language_info": {
   "codemirror_mode": {
    "name": "ipython",
    "version": 3
   },
   "file_extension": ".py",
   "mimetype": "text/x-python",
   "name": "python",
   "nbconvert_exporter": "python",
   "pygments_lexer": "ipython3",
   "version": "3.7.7"
  }
 },
 "nbformat": 4,
 "nbformat_minor": 4
}
